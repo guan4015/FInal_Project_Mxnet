{
 "cells": [
  {
   "cell_type": "code",
   "execution_count": null,
   "metadata": {
    "collapsed": true
   },
   "outputs": [],
   "source": [
    "import mxnet as mx "
   ]
  },
  {
   "cell_type": "code",
   "execution_count": null,
   "metadata": {
    "collapsed": true
   },
   "outputs": [],
   "source": [
    "# Data Perpare \n",
    "mx.recordio.MXIndexedRecordIO   # Create empty .rec file\n",
    "mx.recordio.IRHeader   # write label/point coordinates for the boxes\n",
    "mx.recordio.pack_img  # pack image associated with its label\n",
    "mx.io.ImageRecordIter  # read .rec file"
   ]
  },
  {
   "cell_type": "code",
   "execution_count": null,
   "metadata": {
    "collapsed": true
   },
   "outputs": [],
   "source": [
    "# Model definition \n",
    "mx.sym.Variable\n",
    "mx.sym.Convolution  # Pay attention to \"dilute\", which will be used to NLP.\n",
    "mx.sym.BatchNorm\n",
    "mx.sym.Activation\n",
    "mx.sym.LinearRegressionOutput\n",
    "mx.sym.reshape\n",
    "mx.sym.transpose \n",
    "mx.sym.split \n",
    "mx.sym.MakeLoss\n",
    "mx.sym.Group  # Pay attention to the gradient issues, usually use with the following function\n",
    "mx.sym.BlockGrad\n",
    "# if sym is a symbol \n",
    "sym = mx.sym.Variable('someVar')\n",
    "sym.get_internals\n",
    "sym.list_arguments\n",
    "sym.list_outputs"
   ]
  },
  {
   "cell_type": "code",
   "execution_count": null,
   "metadata": {
    "collapsed": true
   },
   "outputs": [],
   "source": [
    "# Model Training/Testing \n",
    "mx.model.load_checkpoint\n",
    "# to bind mem to sym \n",
    "mx.mod.Module\n",
    "# for metric \n",
    "mx.metric.create\n",
    "# save a model \n",
    "mx.callback.do_checkpoint\n",
    "# print speed and print metric \n",
    "mx.callback.Speedometer\n",
    "# learning rate scheduler \n",
    "mx.lr_scheduler.FactorScheduler\n",
    "# param init \n",
    "mx.init\n",
    "# for monitor (debugging)\n",
    "mx.mon.Monitor"
   ]
  }
 ],
 "metadata": {
  "kernelspec": {
   "display_name": "Python 2",
   "language": "python",
   "name": "python2"
  },
  "language_info": {
   "codemirror_mode": {
    "name": "ipython",
    "version": 2
   },
   "file_extension": ".py",
   "mimetype": "text/x-python",
   "name": "python",
   "nbconvert_exporter": "python",
   "pygments_lexer": "ipython2",
   "version": "2.7.6"
  }
 },
 "nbformat": 4,
 "nbformat_minor": 2
}
